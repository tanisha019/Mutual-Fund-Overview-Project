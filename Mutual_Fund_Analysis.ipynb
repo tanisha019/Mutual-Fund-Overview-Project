{
  "cells": [
    {
      "cell_type": "markdown",
      "metadata": {
        "id": "view-in-github",
        "colab_type": "text"
      },
      "source": [
        "<a href=\"https://colab.research.google.com/github/tanisha019/Mutual-Fund-Overview-Project/blob/main/Mutual_Fund_Analysis.ipynb\" target=\"_parent\"><img src=\"https://colab.research.google.com/assets/colab-badge.svg\" alt=\"Open In Colab\"/></a>"
      ]
    },
    {
      "cell_type": "markdown",
      "id": "ca6a9276",
      "metadata": {
        "id": "ca6a9276"
      },
      "source": [
        "## Data Loading"
      ]
    },
    {
      "cell_type": "code",
      "execution_count": null,
      "id": "1d7a13c9",
      "metadata": {
        "id": "1d7a13c9",
        "outputId": "0bac4767-c26a-4a55-b9a5-dd3ed45b0240"
      },
      "outputs": [
        {
          "data": {
            "text/html": [
              "<div>\n",
              "<style scoped>\n",
              "    .dataframe tbody tr th:only-of-type {\n",
              "        vertical-align: middle;\n",
              "    }\n",
              "\n",
              "    .dataframe tbody tr th {\n",
              "        vertical-align: top;\n",
              "    }\n",
              "\n",
              "    .dataframe thead th {\n",
              "        text-align: right;\n",
              "    }\n",
              "</style>\n",
              "<table border=\"1\" class=\"dataframe\">\n",
              "  <thead>\n",
              "    <tr style=\"text-align: right;\">\n",
              "      <th></th>\n",
              "      <th>scheme_name</th>\n",
              "      <th>min_sip</th>\n",
              "      <th>min_lumpsum</th>\n",
              "      <th>expense_ratio</th>\n",
              "      <th>fund_size_cr</th>\n",
              "      <th>fund_age_yr</th>\n",
              "      <th>fund_manager</th>\n",
              "      <th>sortino</th>\n",
              "      <th>alpha</th>\n",
              "      <th>sd</th>\n",
              "      <th>beta</th>\n",
              "      <th>sharpe</th>\n",
              "      <th>risk_level</th>\n",
              "      <th>amc_name</th>\n",
              "      <th>rating</th>\n",
              "      <th>category</th>\n",
              "      <th>sub_category</th>\n",
              "      <th>returns_1yr</th>\n",
              "      <th>returns_3yr</th>\n",
              "      <th>returns_5yr</th>\n",
              "    </tr>\n",
              "  </thead>\n",
              "  <tbody>\n",
              "    <tr>\n",
              "      <th>0</th>\n",
              "      <td>Aditya Birla SL Active Debt Multi-Mgr FoF-Dir ...</td>\n",
              "      <td>100</td>\n",
              "      <td>100</td>\n",
              "      <td>0.27</td>\n",
              "      <td>10.0</td>\n",
              "      <td>10</td>\n",
              "      <td>Kaustubh Gupta</td>\n",
              "      <td>0.32</td>\n",
              "      <td>2.24</td>\n",
              "      <td>9.39</td>\n",
              "      <td>0.01</td>\n",
              "      <td>0.24</td>\n",
              "      <td>3</td>\n",
              "      <td>Aditya Birla Sun Life Mutual Fund</td>\n",
              "      <td>3</td>\n",
              "      <td>Other</td>\n",
              "      <td>FoFs Domestic</td>\n",
              "      <td>4.0</td>\n",
              "      <td>6.5</td>\n",
              "      <td>6.9</td>\n",
              "    </tr>\n",
              "    <tr>\n",
              "      <th>1</th>\n",
              "      <td>Aditya Birla SL Arbitrage Fund</td>\n",
              "      <td>1000</td>\n",
              "      <td>1000</td>\n",
              "      <td>0.36</td>\n",
              "      <td>4288.0</td>\n",
              "      <td>10</td>\n",
              "      <td>Lovelish Solanki</td>\n",
              "      <td>1.33</td>\n",
              "      <td>1.53</td>\n",
              "      <td>0.72</td>\n",
              "      <td>0.56</td>\n",
              "      <td>1.1</td>\n",
              "      <td>1</td>\n",
              "      <td>Aditya Birla Sun Life Mutual Fund</td>\n",
              "      <td>3</td>\n",
              "      <td>Hybrid</td>\n",
              "      <td>Arbitrage Mutual Funds</td>\n",
              "      <td>5.6</td>\n",
              "      <td>4.8</td>\n",
              "      <td>5.5</td>\n",
              "    </tr>\n",
              "    <tr>\n",
              "      <th>2</th>\n",
              "      <td>Aditya Birla SL Asset Allocator FoF-Dir Growth</td>\n",
              "      <td>1000</td>\n",
              "      <td>1000</td>\n",
              "      <td>0.53</td>\n",
              "      <td>157.0</td>\n",
              "      <td>10</td>\n",
              "      <td>Vinod Narayan Bhat</td>\n",
              "      <td>3.44</td>\n",
              "      <td>2.67</td>\n",
              "      <td>10.58</td>\n",
              "      <td>0.67</td>\n",
              "      <td>1.42</td>\n",
              "      <td>5</td>\n",
              "      <td>Aditya Birla Sun Life Mutual Fund</td>\n",
              "      <td>3</td>\n",
              "      <td>Other</td>\n",
              "      <td>FoFs Domestic</td>\n",
              "      <td>2.0</td>\n",
              "      <td>18.9</td>\n",
              "      <td>9.7</td>\n",
              "    </tr>\n",
              "    <tr>\n",
              "      <th>3</th>\n",
              "      <td>Aditya Birla SL Bal Bhavishya Yojna – Dir Growth</td>\n",
              "      <td>500</td>\n",
              "      <td>1000</td>\n",
              "      <td>0.76</td>\n",
              "      <td>637.0</td>\n",
              "      <td>4</td>\n",
              "      <td>Atul Penkar</td>\n",
              "      <td>2.18</td>\n",
              "      <td>-6.37</td>\n",
              "      <td>14.99</td>\n",
              "      <td>0.85</td>\n",
              "      <td>0.9</td>\n",
              "      <td>6</td>\n",
              "      <td>Aditya Birla Sun Life Mutual Fund</td>\n",
              "      <td>2</td>\n",
              "      <td>Solution Oriented</td>\n",
              "      <td>Childrens Funds</td>\n",
              "      <td>-0.7</td>\n",
              "      <td>17.1</td>\n",
              "      <td>NaN</td>\n",
              "    </tr>\n",
              "    <tr>\n",
              "      <th>4</th>\n",
              "      <td>Aditya Birla SL Balanced Advantage Fund</td>\n",
              "      <td>100</td>\n",
              "      <td>100</td>\n",
              "      <td>0.61</td>\n",
              "      <td>6386.0</td>\n",
              "      <td>10</td>\n",
              "      <td>Mohit Sharma</td>\n",
              "      <td>3.69</td>\n",
              "      <td>1.99</td>\n",
              "      <td>10.38</td>\n",
              "      <td>0.68</td>\n",
              "      <td>1.39</td>\n",
              "      <td>6</td>\n",
              "      <td>Aditya Birla Sun Life Mutual Fund</td>\n",
              "      <td>4</td>\n",
              "      <td>Hybrid</td>\n",
              "      <td>Dynamic Asset Allocation or Balanced Advantage</td>\n",
              "      <td>4.5</td>\n",
              "      <td>18.6</td>\n",
              "      <td>9.7</td>\n",
              "    </tr>\n",
              "  </tbody>\n",
              "</table>\n",
              "</div>"
            ],
            "text/plain": [
              "                                         scheme_name  min_sip  min_lumpsum  \\\n",
              "0  Aditya Birla SL Active Debt Multi-Mgr FoF-Dir ...      100          100   \n",
              "1                     Aditya Birla SL Arbitrage Fund     1000         1000   \n",
              "2     Aditya Birla SL Asset Allocator FoF-Dir Growth     1000         1000   \n",
              "3   Aditya Birla SL Bal Bhavishya Yojna – Dir Growth      500         1000   \n",
              "4            Aditya Birla SL Balanced Advantage Fund      100          100   \n",
              "\n",
              "   expense_ratio  fund_size_cr  fund_age_yr        fund_manager sortino  \\\n",
              "0           0.27          10.0           10      Kaustubh Gupta    0.32   \n",
              "1           0.36        4288.0           10    Lovelish Solanki    1.33   \n",
              "2           0.53         157.0           10  Vinod Narayan Bhat    3.44   \n",
              "3           0.76         637.0            4         Atul Penkar    2.18   \n",
              "4           0.61        6386.0           10        Mohit Sharma    3.69   \n",
              "\n",
              "   alpha     sd  beta sharpe  risk_level                           amc_name  \\\n",
              "0   2.24   9.39  0.01   0.24           3  Aditya Birla Sun Life Mutual Fund   \n",
              "1   1.53   0.72  0.56    1.1           1  Aditya Birla Sun Life Mutual Fund   \n",
              "2   2.67  10.58  0.67   1.42           5  Aditya Birla Sun Life Mutual Fund   \n",
              "3  -6.37  14.99  0.85    0.9           6  Aditya Birla Sun Life Mutual Fund   \n",
              "4   1.99  10.38  0.68   1.39           6  Aditya Birla Sun Life Mutual Fund   \n",
              "\n",
              "   rating           category                                    sub_category  \\\n",
              "0       3              Other                                   FoFs Domestic   \n",
              "1       3             Hybrid                          Arbitrage Mutual Funds   \n",
              "2       3              Other                                   FoFs Domestic   \n",
              "3       2  Solution Oriented                                 Childrens Funds   \n",
              "4       4             Hybrid  Dynamic Asset Allocation or Balanced Advantage   \n",
              "\n",
              "   returns_1yr  returns_3yr  returns_5yr  \n",
              "0          4.0          6.5          6.9  \n",
              "1          5.6          4.8          5.5  \n",
              "2          2.0         18.9          9.7  \n",
              "3         -0.7         17.1          NaN  \n",
              "4          4.5         18.6          9.7  "
            ]
          },
          "execution_count": 1,
          "metadata": {},
          "output_type": "execute_result"
        }
      ],
      "source": [
        "import pandas as pd\n",
        "df=pd.read_csv('D:/OWN PROJECT/data set/Mutual Fund.csv')\n",
        "df.head()"
      ]
    },
    {
      "cell_type": "code",
      "execution_count": null,
      "id": "4e386b11",
      "metadata": {
        "id": "4e386b11",
        "outputId": "e8544081-7226-40a6-b9ab-9e32bee944df"
      },
      "outputs": [
        {
          "name": "stdout",
          "output_type": "stream",
          "text": [
            "           min_sip   min_lumpsum  expense_ratio  fund_size_cr  fund_age_yr  \\\n",
            "count   814.000000    814.000000     814.000000    814.000000   814.000000   \n",
            "mean    528.500000   3047.468059       0.713231   3812.854214     8.319410   \n",
            "std     369.184517   2514.619513       0.482161   7181.479475     2.640622   \n",
            "min       0.000000      0.000000       0.000000      2.380000     1.000000   \n",
            "25%     150.000000    500.000000       0.310000    175.250000     6.000000   \n",
            "50%     500.000000   5000.000000       0.615000    940.500000    10.000000   \n",
            "75%    1000.000000   5000.000000       1.030000   3819.000000    10.000000   \n",
            "max    2000.000000  25000.000000       2.590000  57052.000000    17.000000   \n",
            "\n",
            "       risk_level      rating  returns_1yr  returns_3yr  returns_5yr  \n",
            "count  814.000000  814.000000   814.000000   793.000000   647.000000  \n",
            "mean     4.400491    2.641278     3.921376    18.525347     9.490726  \n",
            "std      1.814741    1.463476     6.675502    12.108476     3.714015  \n",
            "min      1.000000    0.000000   -19.700000     3.300000    -4.100000  \n",
            "25%      3.000000    2.000000     1.500000     6.200000     6.700000  \n",
            "50%      6.000000    3.000000     4.400000    18.500000     8.900000  \n",
            "75%      6.000000    4.000000     5.600000    27.100000    12.200000  \n",
            "max      6.000000    5.000000   130.800000    71.400000    23.200000  \n"
          ]
        }
      ],
      "source": [
        "print(df.describe())"
      ]
    },
    {
      "cell_type": "code",
      "execution_count": null,
      "id": "8655f05e",
      "metadata": {
        "id": "8655f05e",
        "outputId": "3fd1bd69-1ba1-4e91-e99f-e3b337f57da2"
      },
      "outputs": [
        {
          "data": {
            "text/plain": [
              "array(['Other', 'Hybrid', 'Solution Oriented', 'Equity', 'Debt'],\n",
              "      dtype=object)"
            ]
          },
          "execution_count": 3,
          "metadata": {},
          "output_type": "execute_result"
        }
      ],
      "source": [
        "df['category'].unique()"
      ]
    },
    {
      "cell_type": "code",
      "execution_count": null,
      "id": "58e3d7e0",
      "metadata": {
        "id": "58e3d7e0",
        "outputId": "e73aed5e-4946-473c-a265-df34483e71e1"
      },
      "outputs": [
        {
          "data": {
            "text/plain": [
              "scheme_name        0\n",
              "min_sip            0\n",
              "min_lumpsum        0\n",
              "expense_ratio      0\n",
              "fund_size_cr       0\n",
              "fund_age_yr        0\n",
              "fund_manager       0\n",
              "sortino            0\n",
              "alpha              0\n",
              "sd                 0\n",
              "beta               0\n",
              "sharpe             0\n",
              "risk_level         0\n",
              "amc_name           0\n",
              "rating             0\n",
              "category           0\n",
              "sub_category       0\n",
              "returns_1yr        0\n",
              "returns_3yr       21\n",
              "returns_5yr      167\n",
              "dtype: int64"
            ]
          },
          "execution_count": 4,
          "metadata": {},
          "output_type": "execute_result"
        }
      ],
      "source": [
        "df.isnull().sum()"
      ]
    },
    {
      "cell_type": "markdown",
      "id": "6e035705",
      "metadata": {
        "id": "6e035705"
      },
      "source": [
        "## Data Cleaning"
      ]
    },
    {
      "cell_type": "code",
      "execution_count": null,
      "id": "2d8395cb",
      "metadata": {
        "id": "2d8395cb",
        "outputId": "11b6af9a-7e38-4df4-a934-1672d7242099"
      },
      "outputs": [
        {
          "name": "stdout",
          "output_type": "stream",
          "text": [
            "scheme_name      0\n",
            "min_sip          0\n",
            "min_lumpsum      0\n",
            "expense_ratio    0\n",
            "fund_size_cr     0\n",
            "fund_age_yr      0\n",
            "fund_manager     0\n",
            "sortino          0\n",
            "alpha            0\n",
            "sd               0\n",
            "beta             0\n",
            "sharpe           0\n",
            "risk_level       0\n",
            "amc_name         0\n",
            "rating           0\n",
            "category         0\n",
            "sub_category     0\n",
            "returns_1yr      0\n",
            "returns_3yr      0\n",
            "returns_5yr      0\n",
            "dtype: int64\n"
          ]
        }
      ],
      "source": [
        "# Replace missing values in returns_3yr and returns_5yr\n",
        "mean_returns_3yr = df['returns_3yr'].mean()\n",
        "mean_returns_5yr = df['returns_5yr'].mean()\n",
        "df['returns_3yr'].fillna(mean_returns_3yr, inplace=True)\n",
        "df['returns_5yr'].fillna(mean_returns_5yr, inplace=True)\n",
        "print(df.isnull().sum())"
      ]
    },
    {
      "cell_type": "markdown",
      "id": "b4483442",
      "metadata": {
        "id": "b4483442"
      },
      "source": [
        "## Data Normalization"
      ]
    },
    {
      "cell_type": "code",
      "execution_count": null,
      "id": "83ebbe85",
      "metadata": {
        "id": "83ebbe85"
      },
      "outputs": [],
      "source": [
        "from sklearn.preprocessing import MinMaxScaler\n",
        "\n",
        "columns_to_normalize = ['expense_ratio', 'returns_1yr', 'returns_3yr', 'returns_5yr',\n",
        "                        'sharpe', 'sortino', 'alpha', 'beta']\n",
        "df[columns_to_normalize] = df[columns_to_normalize].replace('-', pd.NA).apply(pd.to_numeric)\n",
        "\n",
        "scaler = MinMaxScaler()\n",
        "df_normalized = pd.DataFrame(scaler.fit_transform(df[columns_to_normalize]), columns=columns_to_normalize)\n",
        "\n",
        "# Adjust metrics where lower is better\n",
        "df_normalized['expense_ratio'] = 1 - df_normalized['expense_ratio']\n",
        "df_normalized['beta'] = 1 - df_normalized['beta']"
      ]
    },
    {
      "cell_type": "markdown",
      "id": "e9eb5e47",
      "metadata": {
        "id": "e9eb5e47"
      },
      "source": [
        "## Composite Scoring"
      ]
    },
    {
      "cell_type": "code",
      "execution_count": null,
      "id": "b6998741",
      "metadata": {
        "id": "b6998741"
      },
      "outputs": [],
      "source": [
        "weights = {\n",
        "    'expense_ratio': 0.2,\n",
        "    'returns_1yr': 0.15,\n",
        "    'returns_3yr': 0.15,\n",
        "    'returns_5yr': 0.15,\n",
        "    'sharpe': 0.1,\n",
        "    'sortino': 0.1,\n",
        "    'alpha': 0.1,\n",
        "    'beta': 0.05\n",
        "}\n",
        "\n",
        "df_normalized['composite_score'] = sum(\n",
        "    df_normalized[col] * weight for col, weight in weights.items()\n",
        ")\n",
        "df['composite_score'] = df_normalized['composite_score']\n"
      ]
    },
    {
      "cell_type": "markdown",
      "id": "f578f6bf",
      "metadata": {
        "id": "f578f6bf"
      },
      "source": [
        "## Ranking Fund"
      ]
    },
    {
      "cell_type": "code",
      "execution_count": null,
      "id": "797461be",
      "metadata": {
        "id": "797461be"
      },
      "outputs": [],
      "source": [
        "df['rank'] = df['composite_score'].rank(ascending=False)\n",
        "df_sorted = df.sort_values(by='rank')"
      ]
    },
    {
      "cell_type": "markdown",
      "id": "4921d0d2",
      "metadata": {
        "id": "4921d0d2"
      },
      "source": [
        "## Exporting Result"
      ]
    },
    {
      "cell_type": "code",
      "execution_count": null,
      "id": "cda6c171",
      "metadata": {
        "id": "cda6c171",
        "outputId": "62e3b415-65cc-4fd5-bed4-c320f2f8217f"
      },
      "outputs": [
        {
          "name": "stdout",
          "output_type": "stream",
          "text": [
            "Exported top 30 mutual funds to 'top_30_mutual_funds.xlsx'.\n"
          ]
        }
      ],
      "source": [
        "df_top_30 = df_sorted.head(30)\n",
        "df_top_30.to_excel('top_30_mutual_funds.xlsx', index=False)\n",
        "print(\"Exported top 30 mutual funds to 'top_30_mutual_funds.xlsx'.\")"
      ]
    }
  ],
  "metadata": {
    "kernelspec": {
      "display_name": "Python 3 (ipykernel)",
      "language": "python",
      "name": "python3"
    },
    "language_info": {
      "codemirror_mode": {
        "name": "ipython",
        "version": 3
      },
      "file_extension": ".py",
      "mimetype": "text/x-python",
      "name": "python",
      "nbconvert_exporter": "python",
      "pygments_lexer": "ipython3",
      "version": "3.11.5"
    },
    "colab": {
      "provenance": [],
      "include_colab_link": true
    }
  },
  "nbformat": 4,
  "nbformat_minor": 5
}